{
 "cells": [
  {
   "cell_type": "markdown",
   "metadata": {},
   "source": [
    "In this notebook, I explore the implemenation of linear regression model from scratch only using numpy\n",
    "\n",
    "Reference:\n",
    "http://www.d2l.ai/chapter_linear-networks/linear-regression.html"
   ]
  },
  {
   "cell_type": "code",
   "execution_count": 1,
   "metadata": {},
   "outputs": [],
   "source": [
    "import numpy as np\n",
    "import matplotlib.pyplot as plt"
   ]
  },
  {
   "cell_type": "code",
   "execution_count": 6,
   "metadata": {},
   "outputs": [],
   "source": [
    "# Function to generate synthetic linear regression data\n",
    "\n",
    "def generate_data(true_w, true_b, samples):\n",
    "    x = np.random.rand(samples, len(true_w))\n",
    "    y = np.dot(x, true_w) + true_b\n",
    "    return x, y"
   ]
  },
  {
   "cell_type": "code",
   "execution_count": 7,
   "metadata": {},
   "outputs": [
    {
     "data": {
      "text/plain": [
       "((200, 3), (200, 1))"
      ]
     },
     "execution_count": 7,
     "metadata": {},
     "output_type": "execute_result"
    }
   ],
   "source": [
    "# Generating synthetic data by providing weights and biases\n",
    "n_samples = 200\n",
    "\n",
    "true_w = np.array([5, -3.4, 2]).reshape(-1, 1)\n",
    "true_b = np.array([4.2])\n",
    "x, y = generate_data(true_w, true_b, n_samples)\n",
    "x.shape, y.shape"
   ]
  },
  {
   "cell_type": "code",
   "execution_count": 20,
   "metadata": {},
   "outputs": [],
   "source": [
    "class LinearRegression:\n",
    "    \n",
    "    # Implementation of mean squared error\n",
    "    def mse(self, y_true, y_pred):\n",
    "        return np.mean((y_true - y_pred) ** 2)\n",
    "    \n",
    "    def fit(self, x, y, epoch, lr):\n",
    "        n = x.shape[0]\n",
    "        \n",
    "        # Initializing random weights and biases\n",
    "        w = np.random.rand(x.shape[1], 1)\n",
    "        b = np.array([0.])\n",
    "\n",
    "        losses = []\n",
    "\n",
    "        for i in range(epoch):\n",
    "            # Forward pass\n",
    "            o = np.dot(x, w) + b\n",
    "            \n",
    "            # Calculating deviation from desired output\n",
    "            l = o-y\n",
    "            \n",
    "            # Calculating gradient of loss w.r.t weight and bias using chain rule\n",
    "            dw = np.dot(x.T, l)\n",
    "            db = l\n",
    "            \n",
    "            # Performing gradient descent on weight and biases\n",
    "            w -= ((lr * dw)/n)\n",
    "            b -= ((lr * np.sum(db))/n)\n",
    "            \n",
    "            # Appending losses\n",
    "            losses.append(self.mse(y, o))\n",
    "        \n",
    "        self.w = w\n",
    "        self.b = b\n",
    "    \n",
    "    def predict(self, x):\n",
    "        return np.dot(x, self.w) + self.b"
   ]
  },
  {
   "cell_type": "code",
   "execution_count": 21,
   "metadata": {},
   "outputs": [],
   "source": [
    "# Hyperparameters\n",
    "epochs = 1000\n",
    "lr = 0.4"
   ]
  },
  {
   "cell_type": "code",
   "execution_count": 22,
   "metadata": {},
   "outputs": [],
   "source": [
    "linear = LinearRegression()\n",
    "linear.fit(x, y, epochs, lr)"
   ]
  },
  {
   "cell_type": "code",
   "execution_count": 24,
   "metadata": {},
   "outputs": [
    {
     "data": {
      "text/plain": [
       "(array([[ 5.00000001],\n",
       "        [-3.39999999],\n",
       "        [ 2.00000001]]),\n",
       " array([4.19999998]))"
      ]
     },
     "execution_count": 24,
     "metadata": {},
     "output_type": "execute_result"
    }
   ],
   "source": [
    "# Testing for weights and biases\n",
    "linear.w, linear.b"
   ]
  }
 ],
 "metadata": {
  "kernelspec": {
   "display_name": "Python 3",
   "language": "python",
   "name": "python3"
  },
  "language_info": {
   "codemirror_mode": {
    "name": "ipython",
    "version": 3
   },
   "file_extension": ".py",
   "mimetype": "text/x-python",
   "name": "python",
   "nbconvert_exporter": "python",
   "pygments_lexer": "ipython3",
   "version": "3.8.5"
  }
 },
 "nbformat": 4,
 "nbformat_minor": 4
}
